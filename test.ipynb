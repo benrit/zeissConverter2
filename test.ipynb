{
 "cells": [
  {
   "cell_type": "code",
   "execution_count": 1,
   "metadata": {},
   "outputs": [],
   "source": [
    "import zeissContainer as zC\n",
    "import json"
   ]
  },
  {
   "cell_type": "code",
   "execution_count": 2,
   "metadata": {
    "tags": []
   },
   "outputs": [
    {
     "output_type": "stream",
     "name": "stdout",
     "text": "loading: $c:/temp/dialog.xml\n{'name': 'BenR', 'partID': '00257329-EDM', 'MSN': '1259', 'cavNo': None, 'operation': 'default', 'xOffset': '0.0000', 'yOffset': '0.0000', 'zOffset': '0.0000', 'WO': None, 'comment': None, 'timestamp': '2020-07-24T11:42:52.180633'}\n"
    }
   ],
   "source": [
    "data = zC.zeissContainer()\n",
    "data.loadDialog('c:/temp/dialog.xml')\n",
    "data.loadHDR('c:/temp/results/00431480-EDM_418_hdr.txt')\n",
    "data.loadCHR('c:/temp/results/00431480-EDM_418_chr.txt')\n",
    "data.loadFET('c:/temp/results/00431480-EDM_418_fet.txt')\n"
   ]
  },
  {
   "cell_type": "code",
   "execution_count": 3,
   "metadata": {},
   "outputs": [],
   "source": [
    "with open('c:/temp/temp.json', 'w') as f:\n",
    "    json.dump(data.m_data, f, indent=2)"
   ]
  },
  {
   "cell_type": "code",
   "execution_count": null,
   "metadata": {},
   "outputs": [],
   "source": []
  }
 ],
 "metadata": {
  "language_info": {
   "codemirror_mode": {
    "name": "ipython",
    "version": 3
   },
   "file_extension": ".py",
   "mimetype": "text/x-python",
   "name": "python",
   "nbconvert_exporter": "python",
   "pygments_lexer": "ipython3",
   "version": 3
  },
  "orig_nbformat": 2,
  "kernelspec": {
   "name": "python_defaultSpec_1595603759243",
   "display_name": "Python 3.7.3 64-bit ('base': conda)"
  }
 },
 "nbformat": 4,
 "nbformat_minor": 2
}