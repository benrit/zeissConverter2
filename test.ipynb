{
 "cells": [
  {
   "cell_type": "code",
   "execution_count": 1,
   "metadata": {},
   "outputs": [],
   "source": [
    "import zeissContainer as zC\n",
    "import json"
   ]
  },
  {
   "cell_type": "code",
   "execution_count": 2,
   "metadata": {
    "tags": []
   },
   "outputs": [
    {
     "name": "stdout",
     "output_type": "stream",
     "text": [
      "loading: $c:/temp/dialog.xml\n",
      "{'name': 'BenR', 'partID': '00257329-EDM', 'MSN': '1259', 'cavNo': None, 'operation': 'default', 'xOffset': '0.0000', 'yOffset': '0.0000', 'zOffset': '0.0000', 'WO': None, 'comment': None, 'timestamp': '2020-07-24T11:42:52.180633'}\n"
     ]
    }
   ],
   "source": [
    "data = zC.zeissContainer()\n",
    "data.loadDialog('c:/temp/dialog.xml')\n",
    "data.loadHDR('c:/temp/results/00431480-EDM_418_hdr.txt')\n",
    "data.loadCHR('c:/temp/results/00431480-EDM_418_chr.txt')\n",
    "data.loadFET('c:/temp/results/00431480-EDM_418_fet.txt')\n"
   ]
  },
  {
   "cell_type": "code",
   "execution_count": 3,
   "metadata": {},
   "outputs": [],
   "source": [
    "with open('c:/temp/temp.json', 'w') as f:\n",
    "    json.dump(data.m_data, f, indent=2)"
   ]
  },
  {
   "cell_type": "code",
   "execution_count": 9,
   "metadata": {},
   "outputs": [
    {
     "name": "stdout",
     "output_type": "stream",
     "text": [
      "{'x': 1, 'y': 2, 'i': 5, 'j': 6}\n"
     ]
    }
   ],
   "source": [
    "for (i1, i2) in zip([{\"x\":1, \"y\":2}], [{\"i\": 5, \"j\": 6}]):\n",
    "    print({**i1, **i2})"
   ]
  },
  {
   "cell_type": "code",
   "execution_count": null,
   "metadata": {},
   "outputs": [],
   "source": []
  }
 ],
 "metadata": {
  "kernelspec": {
   "display_name": "Python 3",
   "language": "python",
   "name": "python3"
  },
  "language_info": {
   "codemirror_mode": {
    "name": "ipython",
    "version": 3
   },
   "file_extension": ".py",
   "mimetype": "text/x-python",
   "name": "python",
   "nbconvert_exporter": "python",
   "pygments_lexer": "ipython3",
   "version": "3.11.1"
  },
  "orig_nbformat": 2,
  "vscode": {
   "interpreter": {
    "hash": "ecfad4e988a77dee8601ed5ebb97f22bb526f19fe7be04dea8f8c90e5d68654e"
   }
  }
 },
 "nbformat": 4,
 "nbformat_minor": 2
}
